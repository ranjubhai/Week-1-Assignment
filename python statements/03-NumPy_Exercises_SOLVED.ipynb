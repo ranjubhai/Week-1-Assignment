{
 "cells": [
  {
   "cell_type": "code",
   "execution_count": null,
   "id": "2226516b",
   "metadata": {},
   "outputs": [],
   "source": [
    "import numpy as np"
   ]
  },
  {
   "cell_type": "code",
   "execution_count": null,
   "id": "7d13922d",
   "metadata": {},
   "outputs": [],
   "source": [
    "import numpy as np\n",
    "arr = np.array([[1, 2, 3], [4, 5, 6]])\n",
    "print(arr)\n",
    "print(\"Shape:\", arr.shape)"
   ]
  },
  {
   "cell_type": "code",
   "execution_count": null,
   "id": "e677916b",
   "metadata": {},
   "outputs": [],
   "source": [
    "n_rows = 2\n",
    "n_columns = 3\n",
    "x = np.zeros((n_rows, n_columns))\n",
    "print(x)"
   ]
  },
  {
   "cell_type": "code",
   "execution_count": null,
   "id": "fbac82e0",
   "metadata": {},
   "outputs": [],
   "source": [
    "# Initialize an array ZERO_ARR of dimensions (4, 5, 2) whose every element is 0\n",
    "ZERO_ARR = np.zeros((4, 5, 2))\n",
    "print(ZERO_ARR)\n",
    "\n",
    "# Initialize an array ONE_ARR of dimensions (4, 5, 2) whose every element is 1\n",
    "ONE_ARR = np.ones((4, 5, 2))\n",
    "print(ONE_ARR)"
   ]
  },
  {
   "cell_type": "code",
   "execution_count": null,
   "id": "6adff0a8",
   "metadata": {},
   "outputs": [],
   "source": [
    "y = np.array([[1, 2, 3],\n",
    "              [4, 5, 6]])\n",
    "y_transpose = y.T\n",
    "print(y_transpose)\n",
    "\n",
    "y_flat = y.reshape(-1, 1)\n",
    "print(y_flat)"
   ]
  },
  {
   "cell_type": "code",
   "execution_count": null,
   "id": "0bc87af9",
   "metadata": {},
   "outputs": [],
   "source": [
    "# <START>\n",
    "# Initialize the column matrix here\n",
    "\n",
    "# <END>\n",
    "\n",
    "assert y.shape == (3, 1)\n",
    "# The above line is an assert statement, which halts the program if the given condition evaluates to False.\n",
    "# Assert statements are frequently used in neural network programs to ensure our matrices are of the right dimensions.\n",
    "\n",
    "print(y)\n",
    "\n",
    "# <START>\n",
    "# Multiply both the arrays here\n",
    "\n",
    "# <END>\n",
    "\n",
    "assert z.shape == (2, 1)\n",
    "\n",
    "print(z)"
   ]
  },
  {
   "cell_type": "code",
   "execution_count": null,
   "id": "5b6d7af8",
   "metadata": {},
   "outputs": [],
   "source": [
    "x = np.array([4, 1, 5, 6, 11])\n",
    "\n",
    "# <START>\n",
    "# Create a new array y with the middle 3 elements of x\n",
    "\n",
    "# <END>\n",
    "\n",
    "print(y)\n",
    "\n",
    "z = np.array([1, 2, 3, 4, 5, 6, 7, 8, 9, 10])\n",
    "\n",
    "# <START>\n",
    "# Create a new array w with alternating elements of z\n",
    "\n",
    "# <END>\n",
    "\n",
    "print(w)"
   ]
  },
  {
   "cell_type": "code",
   "execution_count": null,
   "id": "c3a195ae",
   "metadata": {},
   "outputs": [],
   "source": [
    "arr_2d = np.array([[4, 5, 2],\n",
    "          [3, 7, 9],\n",
    "          [1, 4, 5],\n",
    "          [6, 6, 1]])\n",
    "\n",
    "# <START>\n",
    "# Create a 2D array sliced_arr_2d that is of the form [[5, 2], [7, 9], [4, 5]]\n",
    "\n",
    "# <END>\n",
    "\n",
    "print(sliced_arr_2d)"
   ]
  },
  {
   "cell_type": "code",
   "execution_count": null,
   "id": "09ded6f0",
   "metadata": {},
   "outputs": [],
   "source": [
    "arr1 = np.array([1, 2, 3, 4])\n",
    "b = 1\n",
    "\n",
    "# <START>\n",
    "# Implement broadcasting to add b to each element of arr1\n",
    "\n",
    "# <END>\n",
    "\n",
    "print(arr1)\n",
    "\n",
    "arr2 = np.array([[1, 2, 3],\n",
    "                 [4, 5, 6]])\n",
    "arr3 = np.array([[4],\n",
    "                 [5]])\n",
    "\n",
    "# <START>\n",
    "# Multiply each element of the first row of arr2 by 4 and each element of the second row by 5, using only arr2 and arr3\n",
    "\n",
    "# <END>\n",
    "\n",
    "print(arr2)"
   ]
  },
  {
   "cell_type": "code",
   "execution_count": null,
   "id": "a797e50b",
   "metadata": {},
   "outputs": [],
   "source": [
    "import time\n",
    "\n",
    "arr_nonvectorized = np.random.rand(1000, 1000)\n",
    "arr_vectorized = np.array(arr_nonvectorized) # making a deep copy of the array\n",
    "\n",
    "start_nv = time.time()\n",
    "\n",
    "# Non-vectorized approach\n",
    "# <START>\n",
    "\n",
    "\n",
    "\n",
    "# <END>\n",
    "\n",
    "end_nv = time.time()\n",
    "print(\"Time taken in non-vectorized approach:\", 1000*(end_nv-start_nv), \"ms\")\n",
    "\n",
    "# uncomment and execute the below line to convince yourself that both approaches are doing the same thing\n",
    "# print(arr_nonvectorized)\n",
    "\n",
    "start_v = time.time()\n",
    "\n",
    "# Vectorized approach\n",
    "# <START>\n",
    "\n",
    "# <END>\n",
    "\n",
    "end_v = time.time()\n",
    "print(\"Time taken in vectorized approach:\", 1000*(end_v-start_v), \"ms\")\n",
    "\n",
    "# uncomment and execute the below line to convince yourself that both approaches are doing the same thing\n",
    "# print(arr_vectorized)"
   ]
  }
 ],
 "metadata": {
  "colab": {
   "provenance": []
  },
  "kernelspec": {
   "display_name": "Python 3",
   "name": "python3"
  },
  "language_info": {
   "name": "python"
  }
 },
 "nbformat": 4,
 "nbformat_minor": 0
}
